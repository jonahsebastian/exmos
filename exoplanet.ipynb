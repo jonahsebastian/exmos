{
 "cells": [
  {
   "cell_type": "code",
   "execution_count": 1,
   "id": "a66fbc16-b8f9-497e-97e9-92bc15c870f2",
   "metadata": {},
   "outputs": [
    {
     "name": "stdout",
     "output_type": "stream",
     "text": [
      "Loading CSV file...\n",
      "Using the only 4 available features: ['koi_period', 'koi_fpflag_nt', 'koi_fpflag_ss', 'koi_fpflag_co']\n",
      "Data cleaned. Using 9564 rows.\n",
      "Training a new, simpler model...\n",
      "✅ New 4-feature model trained with an accuracy of: 75.69%\n",
      "\n",
      "🎉 SUCCESS! A working model has been saved as 'exoplanet_model_final.joblib'!\n"
     ]
    }
   ],
   "source": [
    "import pandas as pd\n",
    "from sklearn.model_selection import train_test_split\n",
    "from sklearn.ensemble import RandomForestClassifier\n",
    "from sklearn.metrics import accuracy_score\n",
    "import joblib\n",
    "\n",
    "# --- 1. Load the Data ---\n",
    "print(\"Loading CSV file...\")\n",
    "df = pd.read_csv(\n",
    "    r\"C:\\Users\\Jonah\\Desktop\\Expo\\q1_q17_dr25_sup_koi_2025.10.04_20.29.34.csv\", \n",
    "    comment='#'\n",
    ")\n",
    "\n",
    "# --- 2. Define the ONLY features that have data in your file ---\n",
    "working_features = [\n",
    "    'koi_period', \n",
    "    'koi_fpflag_nt', \n",
    "    'koi_fpflag_ss', \n",
    "    'koi_fpflag_co'\n",
    "]\n",
    "print(f\"Using the only 4 available features: {working_features}\")\n",
    "\n",
    "# --- 3. Clean the dataset ---\n",
    "# This will now work because these 4 columns have data\n",
    "df_clean = df[working_features + ['koi_disposition']].dropna()\n",
    "X = df_clean[working_features]\n",
    "y = df_clean['koi_disposition']\n",
    "print(f\"Data cleaned. Using {X.shape[0]} rows.\")\n",
    "\n",
    "# --- 4. Split the data and train a simple model ---\n",
    "print(\"Training a new, simpler model...\")\n",
    "X_train, X_test, y_train, y_test = train_test_split(X, y, test_size=0.2, random_state=42)\n",
    "model = RandomForestClassifier(n_estimators=100, random_state=42)\n",
    "model.fit(X_train, y_train)\n",
    "\n",
    "# --- 5. Check the new model's accuracy ---\n",
    "predictions = model.predict(X_test)\n",
    "accuracy = accuracy_score(y_test, predictions)\n",
    "print(f\"✅ New 4-feature model trained with an accuracy of: {accuracy * 100:.2f}%\")\n",
    "\n",
    "# --- 6. Save the final, working model ---\n",
    "joblib.dump(model, 'exoplanet_model_final.joblib')\n",
    "print(\"\\n🎉 SUCCESS! A working model has been saved as 'exoplanet_model_final.joblib'!\")"
   ]
  },
  {
   "cell_type": "code",
   "execution_count": null,
   "id": "41046f51-bc04-409b-a45b-ca9f30d56c9a",
   "metadata": {},
   "outputs": [],
   "source": []
  }
 ],
 "metadata": {
  "kernelspec": {
   "display_name": "Python 3 (ipykernel)",
   "language": "python",
   "name": "python3"
  },
  "language_info": {
   "codemirror_mode": {
    "name": "ipython",
    "version": 3
   },
   "file_extension": ".py",
   "mimetype": "text/x-python",
   "name": "python",
   "nbconvert_exporter": "python",
   "pygments_lexer": "ipython3",
   "version": "3.13.7"
  }
 },
 "nbformat": 4,
 "nbformat_minor": 5
}
